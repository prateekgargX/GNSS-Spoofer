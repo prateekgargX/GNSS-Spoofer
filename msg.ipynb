{
 "cells": [
  {
   "cell_type": "code",
   "execution_count": 3,
   "metadata": {},
   "outputs": [],
   "source": [
    "import numpy as np\n",
    "import PRNGenerator\n",
    "from os.path import exists \n",
    "\n",
    "prn_path='PRN-normalised.txt'\n",
    "\n",
    "if not(exists(prn_path)) : PRNGenerator.Generate(prn_path)\n",
    "prn_normalised = np.loadtxt(prn_path)"
   ]
  },
  {
   "cell_type": "code",
   "execution_count": 12,
   "metadata": {},
   "outputs": [],
   "source": [
    "def encode_bit_string(msg,satnum = 1):\n",
    "    '''\n",
    "    inputs a bit string to generate a nav_msg.\n",
    "    '''\n",
    "    req_prn= prn_normalised[satnum*2-2:satnum*2,:]\n",
    "    a = np.zeros((len(msg),50))\n",
    "    for i,c in enumerate(msg):\n",
    "        if i%50+50>1023:\n",
    "            a[i] = np.concatenate((req_prn[int(c),i%50:],req_prn[int(c),:i%50-1023]))\n",
    "        else:\n",
    "            a[i] = req_prn[int(c),i%50:i%50+50] \n",
    "    return a.flatten()"
   ]
  },
  {
   "cell_type": "code",
   "execution_count": null,
   "metadata": {},
   "outputs": [],
   "source": [
    "msg_file = encode_bit_string(\"101011\",1)"
   ]
  },
  {
   "cell_type": "code",
   "execution_count": 16,
   "metadata": {},
   "outputs": [],
   "source": [
    "filename = 'msg.txt'\n",
    "np.savetxt(filename,msg_file)"
   ]
  },
  {
   "cell_type": "code",
   "execution_count": null,
   "metadata": {},
   "outputs": [],
   "source": []
  }
 ],
 "metadata": {
  "kernelspec": {
   "display_name": "Python 3.9.5 ('base')",
   "language": "python",
   "name": "python3"
  },
  "language_info": {
   "codemirror_mode": {
    "name": "ipython",
    "version": 3
   },
   "file_extension": ".py",
   "mimetype": "text/x-python",
   "name": "python",
   "nbconvert_exporter": "python",
   "pygments_lexer": "ipython3",
   "version": "3.9.5"
  },
  "orig_nbformat": 4,
  "vscode": {
   "interpreter": {
    "hash": "230781e5f02e913cf07188892be4aa67925a7e0f7b166b8484c39dae4bd52aa8"
   }
  }
 },
 "nbformat": 4,
 "nbformat_minor": 2
}
