{
 "cells": [
  {
   "cell_type": "code",
   "execution_count": 1,
   "metadata": {},
   "outputs": [],
   "source": [
    "import numpy as np\n",
    "#PRN assignments for each satellite specs \n",
    "#Specifies the points to be tapped on G2 register\n",
    "SV = np.array([\n",
    "   [2,6],\n",
    "   [3,7],\n",
    "   [4,8],\n",
    "   [5,9],\n",
    "   [1,9],\n",
    "   [2,10],\n",
    "   [1,8],\n",
    "   [2,9],\n",
    "   [3,10],\n",
    "   [2,3],\n",
    "   [3,4],\n",
    "   [5,6],\n",
    "   [6,7],\n",
    "   [7,8],\n",
    "   [8,9],\n",
    "   [9,10],\n",
    "   [1,4],\n",
    "   [2,5],\n",
    "   [3,6],\n",
    "   [4,7],\n",
    "   [5,8],\n",
    "   [6,9],\n",
    "   [1,3],\n",
    "   [4,6],\n",
    "   [5,7],\n",
    "   [6,8],\n",
    "   [7,9],\n",
    "   [8,10],\n",
    "   [1,6],\n",
    "   [2,7],\n",
    "   [3,8],\n",
    "   [4,9],\n",
    "])"
   ]
  },
  {
   "cell_type": "code",
   "execution_count": 2,
   "metadata": {},
   "outputs": [],
   "source": [
    "def shift(register, taps, output):    \n",
    "    out = 0\n",
    "    for i in range(len(output)): out^=register[output[i]-1]\n",
    "    fb=0\n",
    "    for i in range(len(taps)): fb^=register[taps[i]-1]\n",
    "    # shift to the right\n",
    "    for i in reversed(range(len(register)-1)): \n",
    "        register[i+1] = register[i]\n",
    "        \n",
    "    # put feedback in position 1\n",
    "    register[0] = fb\n",
    "    return out,register"
   ]
  },
  {
   "cell_type": "code",
   "execution_count": 10,
   "metadata": {},
   "outputs": [],
   "source": [
    "\n",
    "def PRN(sat_num,num_bits=1023):\n",
    "        #Initialise G1, G2 \n",
    "    G1 = np.ones(10,dtype=np.int64)\n",
    "    G2 = np.ones(10,dtype=np.int64)\n",
    "    ca = []\n",
    "    for i in range(num_bits):\n",
    "        g1,G1 = shift(G1, [3,10], [10])          #feedback 3,10, output 10\n",
    "        g2,G2 = shift(G2, [2,3,6,8,9,10],SV[sat_num-1]) #feedback 2,3,6,8,9,10, output 2,6 for sat 1\n",
    "        ca.append(g1^g2)\n",
    "    return np.array(ca)\n",
    "\n"
   ]
  },
  {
   "cell_type": "code",
   "execution_count": 20,
   "metadata": {},
   "outputs": [],
   "source": [
    "# find ca code for sat 24, and make 0 into -1 to use in BPSK\n",
    "d = PRN(24,200)\n",
    "sat_24 = 2*d-1"
   ]
  },
  {
   "cell_type": "code",
   "execution_count": 21,
   "metadata": {},
   "outputs": [
    {
     "data": {
      "image/png": "[encoded data removed]",
      "text/plain": [
       "<Figure size 432x288 with 1 Axes>"
      ]
     },
     "metadata": {
      "needs_background": "light"
     },
     "output_type": "display_data"
    }
   ],
   "source": [
    "import matplotlib.pyplot as plt\n",
    "plt.step(np.arange(sat_24.shape[0])/2,sat_24)\n",
    "plt.show()"
   ]
  },
  {
   "cell_type": "code",
   "execution_count": null,
   "metadata": {},
   "outputs": [],
   "source": []
  }
 ],
 "metadata": {
  "kernelspec": {
   "display_name": "Python 3.9.5 ('base')",
   "language": "python",
   "name": "python3"
  },
  "language_info": {
   "codemirror_mode": {
    "name": "ipython",
    "version": 3
   },
   "file_extension": ".py",
   "mimetype": "text/x-python",
   "name": "python",
   "nbconvert_exporter": "python",
   "pygments_lexer": "ipython3",
   "version": "3.9.5"
  },
  "orig_nbformat": 4,
  "vscode": {
   "interpreter": {
    "hash": "230781e5f02e913cf07188892be4aa67925a7e0f7b166b8484c39dae4bd52aa8"
   }
  }
 },
 "nbformat": 4,
 "nbformat_minor": 2
}
